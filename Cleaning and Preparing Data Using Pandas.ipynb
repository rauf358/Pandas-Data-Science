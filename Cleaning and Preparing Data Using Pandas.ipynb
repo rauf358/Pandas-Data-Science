{
 "cells": [
  {
   "cell_type": "code",
   "execution_count": 1,
   "id": "0ca7781d",
   "metadata": {},
   "outputs": [],
   "source": [
    "import pandas as pd"
   ]
  },
  {
   "cell_type": "code",
   "execution_count": 2,
   "id": "b554b3ff",
   "metadata": {},
   "outputs": [],
   "source": [
    "arts = pd.read_csv(\"modern_arts.csv\")"
   ]
  },
  {
   "cell_type": "code",
   "execution_count": 3,
   "id": "fd885337",
   "metadata": {},
   "outputs": [
    {
     "data": {
      "text/html": [
       "<div>\n",
       "<style scoped>\n",
       "    .dataframe tbody tr th:only-of-type {\n",
       "        vertical-align: middle;\n",
       "    }\n",
       "\n",
       "    .dataframe tbody tr th {\n",
       "        vertical-align: top;\n",
       "    }\n",
       "\n",
       "    .dataframe thead th {\n",
       "        text-align: right;\n",
       "    }\n",
       "</style>\n",
       "<table border=\"1\" class=\"dataframe\">\n",
       "  <thead>\n",
       "    <tr style=\"text-align: right;\">\n",
       "      <th></th>\n",
       "      <th>Title</th>\n",
       "      <th>Artist</th>\n",
       "      <th>Nationality</th>\n",
       "      <th>BeginDate</th>\n",
       "      <th>EndDate</th>\n",
       "      <th>Gender</th>\n",
       "      <th>Date</th>\n",
       "      <th>Department</th>\n",
       "    </tr>\n",
       "  </thead>\n",
       "  <tbody>\n",
       "    <tr>\n",
       "      <th>0</th>\n",
       "      <td>Dress MacLeod from Tartan Sets</td>\n",
       "      <td>Sarah Charlesworth</td>\n",
       "      <td>(American)</td>\n",
       "      <td>(1947)</td>\n",
       "      <td>(2013)</td>\n",
       "      <td>(Female)</td>\n",
       "      <td>1986</td>\n",
       "      <td>Prints &amp; Illustrated Books</td>\n",
       "    </tr>\n",
       "    <tr>\n",
       "      <th>1</th>\n",
       "      <td>Duplicate of plate from folio 11 verso (supple...</td>\n",
       "      <td>Pablo Palazuelo</td>\n",
       "      <td>(Spanish)</td>\n",
       "      <td>(1916)</td>\n",
       "      <td>(2007)</td>\n",
       "      <td>(Male)</td>\n",
       "      <td>1978</td>\n",
       "      <td>Prints &amp; Illustrated Books</td>\n",
       "    </tr>\n",
       "    <tr>\n",
       "      <th>2</th>\n",
       "      <td>Tailpiece (page 55) from SAGESSE</td>\n",
       "      <td>Maurice Denis</td>\n",
       "      <td>(French)</td>\n",
       "      <td>(1870)</td>\n",
       "      <td>(1943)</td>\n",
       "      <td>(Male)</td>\n",
       "      <td>1889-1911</td>\n",
       "      <td>Prints &amp; Illustrated Books</td>\n",
       "    </tr>\n",
       "    <tr>\n",
       "      <th>3</th>\n",
       "      <td>Headpiece (page 129) from LIVRET DE FOLASTRIES...</td>\n",
       "      <td>Aristide Maillol</td>\n",
       "      <td>(French)</td>\n",
       "      <td>(1861)</td>\n",
       "      <td>(1944)</td>\n",
       "      <td>(Male)</td>\n",
       "      <td>1927-1940</td>\n",
       "      <td>Prints &amp; Illustrated Books</td>\n",
       "    </tr>\n",
       "    <tr>\n",
       "      <th>4</th>\n",
       "      <td>97 rue du Bac</td>\n",
       "      <td>Eugène Atget</td>\n",
       "      <td>(French)</td>\n",
       "      <td>(1857)</td>\n",
       "      <td>(1927)</td>\n",
       "      <td>(Male)</td>\n",
       "      <td>1903</td>\n",
       "      <td>Photography</td>\n",
       "    </tr>\n",
       "    <tr>\n",
       "      <th>...</th>\n",
       "      <td>...</td>\n",
       "      <td>...</td>\n",
       "      <td>...</td>\n",
       "      <td>...</td>\n",
       "      <td>...</td>\n",
       "      <td>...</td>\n",
       "      <td>...</td>\n",
       "      <td>...</td>\n",
       "    </tr>\n",
       "    <tr>\n",
       "      <th>16720</th>\n",
       "      <td>Oval with Points</td>\n",
       "      <td>Henry Moore</td>\n",
       "      <td>(British)</td>\n",
       "      <td>(1898)</td>\n",
       "      <td>(1986)</td>\n",
       "      <td>(Male)</td>\n",
       "      <td>1968-1969</td>\n",
       "      <td>Painting &amp; Sculpture</td>\n",
       "    </tr>\n",
       "    <tr>\n",
       "      <th>16721</th>\n",
       "      <td>Cementerio de la Ciudad Abierta, Ritoque, Chile</td>\n",
       "      <td>Juan Baixas</td>\n",
       "      <td>(Chilean)</td>\n",
       "      <td>(1942)</td>\n",
       "      <td>NaN</td>\n",
       "      <td>(Male)</td>\n",
       "      <td>1975</td>\n",
       "      <td>Architecture &amp; Design</td>\n",
       "    </tr>\n",
       "    <tr>\n",
       "      <th>16722</th>\n",
       "      <td>The Catboat</td>\n",
       "      <td>Edward Hopper</td>\n",
       "      <td>(American)</td>\n",
       "      <td>(1882)</td>\n",
       "      <td>(1967)</td>\n",
       "      <td>(Male)</td>\n",
       "      <td>1922</td>\n",
       "      <td>Prints &amp; Illustrated Books</td>\n",
       "    </tr>\n",
       "    <tr>\n",
       "      <th>16723</th>\n",
       "      <td>Dognat' i peregnat' v tekhniko-ekonomicheskom ...</td>\n",
       "      <td>Unknown</td>\n",
       "      <td>()</td>\n",
       "      <td>NaN</td>\n",
       "      <td>NaN</td>\n",
       "      <td>()</td>\n",
       "      <td>1931</td>\n",
       "      <td>Prints &amp; Illustrated Books</td>\n",
       "    </tr>\n",
       "    <tr>\n",
       "      <th>16724</th>\n",
       "      <td>Plate (page 11) from The Dive</td>\n",
       "      <td>Alex Katz</td>\n",
       "      <td>(American)</td>\n",
       "      <td>(1927)</td>\n",
       "      <td>NaN</td>\n",
       "      <td>(Male)</td>\n",
       "      <td>2011</td>\n",
       "      <td>Prints &amp; Illustrated Books</td>\n",
       "    </tr>\n",
       "  </tbody>\n",
       "</table>\n",
       "<p>16725 rows × 8 columns</p>\n",
       "</div>"
      ],
      "text/plain": [
       "                                                   Title              Artist  \\\n",
       "0                         Dress MacLeod from Tartan Sets  Sarah Charlesworth   \n",
       "1      Duplicate of plate from folio 11 verso (supple...     Pablo Palazuelo   \n",
       "2                       Tailpiece (page 55) from SAGESSE       Maurice Denis   \n",
       "3      Headpiece (page 129) from LIVRET DE FOLASTRIES...    Aristide Maillol   \n",
       "4                                          97 rue du Bac        Eugène Atget   \n",
       "...                                                  ...                 ...   \n",
       "16720                                   Oval with Points         Henry Moore   \n",
       "16721    Cementerio de la Ciudad Abierta, Ritoque, Chile         Juan Baixas   \n",
       "16722                                        The Catboat       Edward Hopper   \n",
       "16723  Dognat' i peregnat' v tekhniko-ekonomicheskom ...             Unknown   \n",
       "16724                      Plate (page 11) from The Dive           Alex Katz   \n",
       "\n",
       "      Nationality BeginDate EndDate    Gender       Date  \\\n",
       "0      (American)    (1947)  (2013)  (Female)       1986   \n",
       "1       (Spanish)    (1916)  (2007)    (Male)       1978   \n",
       "2        (French)    (1870)  (1943)    (Male)  1889-1911   \n",
       "3        (French)    (1861)  (1944)    (Male)  1927-1940   \n",
       "4        (French)    (1857)  (1927)    (Male)       1903   \n",
       "...           ...       ...     ...       ...        ...   \n",
       "16720   (British)    (1898)  (1986)    (Male)  1968-1969   \n",
       "16721   (Chilean)    (1942)     NaN    (Male)       1975   \n",
       "16722  (American)    (1882)  (1967)    (Male)       1922   \n",
       "16723          ()       NaN     NaN        ()       1931   \n",
       "16724  (American)    (1927)     NaN    (Male)       2011   \n",
       "\n",
       "                       Department  \n",
       "0      Prints & Illustrated Books  \n",
       "1      Prints & Illustrated Books  \n",
       "2      Prints & Illustrated Books  \n",
       "3      Prints & Illustrated Books  \n",
       "4                     Photography  \n",
       "...                           ...  \n",
       "16720        Painting & Sculpture  \n",
       "16721       Architecture & Design  \n",
       "16722  Prints & Illustrated Books  \n",
       "16723  Prints & Illustrated Books  \n",
       "16724  Prints & Illustrated Books  \n",
       "\n",
       "[16725 rows x 8 columns]"
      ]
     },
     "execution_count": 3,
     "metadata": {},
     "output_type": "execute_result"
    }
   ],
   "source": [
    "arts"
   ]
  },
  {
   "cell_type": "code",
   "execution_count": 4,
   "id": "68bd06c7",
   "metadata": {},
   "outputs": [
    {
     "data": {
      "text/html": [
       "<div>\n",
       "<style scoped>\n",
       "    .dataframe tbody tr th:only-of-type {\n",
       "        vertical-align: middle;\n",
       "    }\n",
       "\n",
       "    .dataframe tbody tr th {\n",
       "        vertical-align: top;\n",
       "    }\n",
       "\n",
       "    .dataframe thead th {\n",
       "        text-align: right;\n",
       "    }\n",
       "</style>\n",
       "<table border=\"1\" class=\"dataframe\">\n",
       "  <thead>\n",
       "    <tr style=\"text-align: right;\">\n",
       "      <th></th>\n",
       "      <th>Title</th>\n",
       "      <th>Artist</th>\n",
       "      <th>Nationality</th>\n",
       "      <th>BeginDate</th>\n",
       "      <th>EndDate</th>\n",
       "      <th>Gender</th>\n",
       "      <th>Date</th>\n",
       "      <th>Department</th>\n",
       "    </tr>\n",
       "  </thead>\n",
       "  <tbody>\n",
       "    <tr>\n",
       "      <th>0</th>\n",
       "      <td>Dress MacLeod from Tartan Sets</td>\n",
       "      <td>Sarah Charlesworth</td>\n",
       "      <td>(American)</td>\n",
       "      <td>(1947)</td>\n",
       "      <td>(2013)</td>\n",
       "      <td>(Female)</td>\n",
       "      <td>1986</td>\n",
       "      <td>Prints &amp; Illustrated Books</td>\n",
       "    </tr>\n",
       "    <tr>\n",
       "      <th>1</th>\n",
       "      <td>Duplicate of plate from folio 11 verso (supple...</td>\n",
       "      <td>Pablo Palazuelo</td>\n",
       "      <td>(Spanish)</td>\n",
       "      <td>(1916)</td>\n",
       "      <td>(2007)</td>\n",
       "      <td>(Male)</td>\n",
       "      <td>1978</td>\n",
       "      <td>Prints &amp; Illustrated Books</td>\n",
       "    </tr>\n",
       "    <tr>\n",
       "      <th>2</th>\n",
       "      <td>Tailpiece (page 55) from SAGESSE</td>\n",
       "      <td>Maurice Denis</td>\n",
       "      <td>(French)</td>\n",
       "      <td>(1870)</td>\n",
       "      <td>(1943)</td>\n",
       "      <td>(Male)</td>\n",
       "      <td>1889-1911</td>\n",
       "      <td>Prints &amp; Illustrated Books</td>\n",
       "    </tr>\n",
       "    <tr>\n",
       "      <th>3</th>\n",
       "      <td>Headpiece (page 129) from LIVRET DE FOLASTRIES...</td>\n",
       "      <td>Aristide Maillol</td>\n",
       "      <td>(French)</td>\n",
       "      <td>(1861)</td>\n",
       "      <td>(1944)</td>\n",
       "      <td>(Male)</td>\n",
       "      <td>1927-1940</td>\n",
       "      <td>Prints &amp; Illustrated Books</td>\n",
       "    </tr>\n",
       "    <tr>\n",
       "      <th>4</th>\n",
       "      <td>97 rue du Bac</td>\n",
       "      <td>Eugène Atget</td>\n",
       "      <td>(French)</td>\n",
       "      <td>(1857)</td>\n",
       "      <td>(1927)</td>\n",
       "      <td>(Male)</td>\n",
       "      <td>1903</td>\n",
       "      <td>Photography</td>\n",
       "    </tr>\n",
       "  </tbody>\n",
       "</table>\n",
       "</div>"
      ],
      "text/plain": [
       "                                               Title              Artist  \\\n",
       "0                     Dress MacLeod from Tartan Sets  Sarah Charlesworth   \n",
       "1  Duplicate of plate from folio 11 verso (supple...     Pablo Palazuelo   \n",
       "2                   Tailpiece (page 55) from SAGESSE       Maurice Denis   \n",
       "3  Headpiece (page 129) from LIVRET DE FOLASTRIES...    Aristide Maillol   \n",
       "4                                      97 rue du Bac        Eugène Atget   \n",
       "\n",
       "  Nationality BeginDate EndDate    Gender       Date  \\\n",
       "0  (American)    (1947)  (2013)  (Female)       1986   \n",
       "1   (Spanish)    (1916)  (2007)    (Male)       1978   \n",
       "2    (French)    (1870)  (1943)    (Male)  1889-1911   \n",
       "3    (French)    (1861)  (1944)    (Male)  1927-1940   \n",
       "4    (French)    (1857)  (1927)    (Male)       1903   \n",
       "\n",
       "                   Department  \n",
       "0  Prints & Illustrated Books  \n",
       "1  Prints & Illustrated Books  \n",
       "2  Prints & Illustrated Books  \n",
       "3  Prints & Illustrated Books  \n",
       "4                 Photography  "
      ]
     },
     "execution_count": 4,
     "metadata": {},
     "output_type": "execute_result"
    }
   ],
   "source": [
    "arts.head()"
   ]
  },
  {
   "cell_type": "code",
   "execution_count": 5,
   "id": "3bdc3435",
   "metadata": {},
   "outputs": [
    {
     "data": {
      "text/plain": [
       "0        (American)\n",
       "1         (Spanish)\n",
       "2          (French)\n",
       "3          (French)\n",
       "4          (French)\n",
       "            ...    \n",
       "16720     (British)\n",
       "16721     (Chilean)\n",
       "16722    (American)\n",
       "16723            ()\n",
       "16724    (American)\n",
       "Name: Nationality, Length: 16725, dtype: object"
      ]
     },
     "execution_count": 5,
     "metadata": {},
     "output_type": "execute_result"
    }
   ],
   "source": [
    "arts[\"Nationality\"]"
   ]
  },
  {
   "cell_type": "code",
   "execution_count": 6,
   "id": "d24a9e5f",
   "metadata": {},
   "outputs": [
    {
     "name": "stderr",
     "output_type": "stream",
     "text": [
      "C:\\Users\\KING\\AppData\\Local\\Temp\\ipykernel_13060\\4215898370.py:1: FutureWarning: The default value of regex will change from True to False in a future version. In addition, single character regular expressions will *not* be treated as literal strings when regex=True.\n",
      "  arts[\"Nationality\"]=arts[\"Nationality\"].str.replace(\"(\",'').str.replace(\")\",'')\n"
     ]
    }
   ],
   "source": [
    "arts[\"Nationality\"]=arts[\"Nationality\"].str.replace(\"(\",'').str.replace(\")\",'')"
   ]
  },
  {
   "cell_type": "code",
   "execution_count": 7,
   "id": "744d25db",
   "metadata": {},
   "outputs": [
    {
     "data": {
      "text/plain": [
       "0        American\n",
       "1         Spanish\n",
       "2          French\n",
       "3          French\n",
       "4          French\n",
       "           ...   \n",
       "16720     British\n",
       "16721     Chilean\n",
       "16722    American\n",
       "16723            \n",
       "16724    American\n",
       "Name: Nationality, Length: 16725, dtype: object"
      ]
     },
     "execution_count": 7,
     "metadata": {},
     "output_type": "execute_result"
    }
   ],
   "source": [
    "arts[\"Nationality\"]"
   ]
  },
  {
   "cell_type": "code",
   "execution_count": 8,
   "id": "acb33a99",
   "metadata": {},
   "outputs": [
    {
     "data": {
      "text/plain": [
       "array(['American', 'Spanish', 'French', 'South African', 'Canadian',\n",
       "       'Czech', 'Belgian', 'Russian', 'British', 'German', '', 'Swiss',\n",
       "       'Polish', 'Japanese', 'Portuguese', 'Austrian', 'Australian',\n",
       "       'Italian', 'Chilean', 'Colombian', 'Mexican', 'Brazilian', 'Dutch',\n",
       "       'Romanian', 'Venezuelan', 'Korean', 'Israeli', 'Argentine',\n",
       "       'Indian', 'Nationality unknown', 'Swedish', 'Yugoslav', 'Cuban',\n",
       "       'Nationality Unknown', 'Various', 'Luxembourgish', 'Croatian',\n",
       "       'Bulgarian', 'Hungarian', 'Georgian', 'Puerto Rican', 'Danish',\n",
       "       'Serbian', 'Pakistani', 'Ecuadorian', 'Chinese', 'Iranian',\n",
       "       'Finnish', 'Lebanese', 'Thai', 'Cambodian', 'Scottish', 'Kenyan',\n",
       "       'Latvian', 'Sudanese', 'Uruguayan', 'Peruvian', 'New Zealander',\n",
       "       'Moroccan', 'Guatemalan', 'Cameroonian', 'Egyptian', 'Nigerian',\n",
       "       'Icelandic', 'Haitian', 'Tajik', 'Irish', 'Norwegian',\n",
       "       'Costa Rican', 'Slovenian', 'Turkish', 'Mozambican', 'Palestinian',\n",
       "       'Ukrainian', 'Angolan', 'Tunisian', 'Greek', 'Zimbabwean',\n",
       "       'Bahamian', 'Vietnamese', 'Panamanian', 'Canadian Inuit', 'Malian',\n",
       "       'Filipino'], dtype=object)"
      ]
     },
     "execution_count": 8,
     "metadata": {},
     "output_type": "execute_result"
    }
   ],
   "source": [
    "arts[\"Nationality\"].unique()"
   ]
  },
  {
   "cell_type": "code",
   "execution_count": 9,
   "id": "ddb7c891",
   "metadata": {},
   "outputs": [],
   "source": [
    "arts.loc[arts[\"Nationality\"]=='','Nationality'] = 'Nationality Unknown'#Replaces '' with Nationality unknown"
   ]
  },
  {
   "cell_type": "code",
   "execution_count": 10,
   "id": "e24495d8",
   "metadata": {},
   "outputs": [
    {
     "data": {
      "text/plain": [
       "array(['American', 'Spanish', 'French', 'South African', 'Canadian',\n",
       "       'Czech', 'Belgian', 'Russian', 'British', 'German',\n",
       "       'Nationality Unknown', 'Swiss', 'Polish', 'Japanese', 'Portuguese',\n",
       "       'Austrian', 'Australian', 'Italian', 'Chilean', 'Colombian',\n",
       "       'Mexican', 'Brazilian', 'Dutch', 'Romanian', 'Venezuelan',\n",
       "       'Korean', 'Israeli', 'Argentine', 'Indian', 'Nationality unknown',\n",
       "       'Swedish', 'Yugoslav', 'Cuban', 'Various', 'Luxembourgish',\n",
       "       'Croatian', 'Bulgarian', 'Hungarian', 'Georgian', 'Puerto Rican',\n",
       "       'Danish', 'Serbian', 'Pakistani', 'Ecuadorian', 'Chinese',\n",
       "       'Iranian', 'Finnish', 'Lebanese', 'Thai', 'Cambodian', 'Scottish',\n",
       "       'Kenyan', 'Latvian', 'Sudanese', 'Uruguayan', 'Peruvian',\n",
       "       'New Zealander', 'Moroccan', 'Guatemalan', 'Cameroonian',\n",
       "       'Egyptian', 'Nigerian', 'Icelandic', 'Haitian', 'Tajik', 'Irish',\n",
       "       'Norwegian', 'Costa Rican', 'Slovenian', 'Turkish', 'Mozambican',\n",
       "       'Palestinian', 'Ukrainian', 'Angolan', 'Tunisian', 'Greek',\n",
       "       'Zimbabwean', 'Bahamian', 'Vietnamese', 'Panamanian',\n",
       "       'Canadian Inuit', 'Malian', 'Filipino'], dtype=object)"
      ]
     },
     "execution_count": 10,
     "metadata": {},
     "output_type": "execute_result"
    }
   ],
   "source": [
    "arts[\"Nationality\"].unique()"
   ]
  },
  {
   "cell_type": "code",
   "execution_count": 11,
   "id": "41e24cdd",
   "metadata": {},
   "outputs": [
    {
     "data": {
      "text/plain": [
       "array(['(Female)', '(Male)', '()', '(male)'], dtype=object)"
      ]
     },
     "execution_count": 11,
     "metadata": {},
     "output_type": "execute_result"
    }
   ],
   "source": [
    "arts[\"Gender\"].unique()"
   ]
  },
  {
   "cell_type": "code",
   "execution_count": 12,
   "id": "f5f8a542",
   "metadata": {},
   "outputs": [
    {
     "name": "stderr",
     "output_type": "stream",
     "text": [
      "C:\\Users\\KING\\AppData\\Local\\Temp\\ipykernel_13060\\2244086574.py:1: FutureWarning: The default value of regex will change from True to False in a future version. In addition, single character regular expressions will *not* be treated as literal strings when regex=True.\n",
      "  arts[\"Gender\"]=arts[\"Gender\"].str.replace(\"(\",'').str.replace(\")\",'')\n"
     ]
    }
   ],
   "source": [
    "arts[\"Gender\"]=arts[\"Gender\"].str.replace(\"(\",'').str.replace(\")\",'')"
   ]
  },
  {
   "cell_type": "code",
   "execution_count": 13,
   "id": "7669701f",
   "metadata": {},
   "outputs": [],
   "source": [
    "arts.loc[arts[\"Gender\"]=='',\"Gender\"] = \"Gender Unknown\""
   ]
  },
  {
   "cell_type": "code",
   "execution_count": 14,
   "id": "48cdcd67",
   "metadata": {},
   "outputs": [
    {
     "data": {
      "text/plain": [
       "0                Female\n",
       "1                  Male\n",
       "2                  Male\n",
       "3                  Male\n",
       "4                  Male\n",
       "              ...      \n",
       "16720              Male\n",
       "16721              Male\n",
       "16722              Male\n",
       "16723    Gender Unknown\n",
       "16724              Male\n",
       "Name: Gender, Length: 16725, dtype: object"
      ]
     },
     "execution_count": 14,
     "metadata": {},
     "output_type": "execute_result"
    }
   ],
   "source": [
    "arts[\"Gender\"]"
   ]
  },
  {
   "cell_type": "code",
   "execution_count": 15,
   "id": "97f9d592",
   "metadata": {},
   "outputs": [],
   "source": [
    "def clean_dates(date):\n",
    "    bad_chr=['(',')','s','C','c',' ','.',\"'\"]\n",
    "    if type(date)== float: #Check for \"NaN\" as it it float and returns it unchanged\n",
    "        return date\n",
    "    else:\n",
    "        for i in bad_chr:\n",
    "            date = date.replace(i,'')\n",
    "        return date"
   ]
  },
  {
   "cell_type": "code",
   "execution_count": 16,
   "id": "ed5d66a6",
   "metadata": {},
   "outputs": [
    {
     "name": "stdout",
     "output_type": "stream",
     "text": [
      "<class 'pandas.core.frame.DataFrame'>\n",
      "RangeIndex: 16725 entries, 0 to 16724\n",
      "Data columns (total 8 columns):\n",
      " #   Column       Non-Null Count  Dtype \n",
      "---  ------       --------------  ----- \n",
      " 0   Title        16724 non-null  object\n",
      " 1   Artist       16725 non-null  object\n",
      " 2   Nationality  16725 non-null  object\n",
      " 3   BeginDate    15786 non-null  object\n",
      " 4   EndDate      10474 non-null  object\n",
      " 5   Gender       16725 non-null  object\n",
      " 6   Date         16725 non-null  object\n",
      " 7   Department   16725 non-null  object\n",
      "dtypes: object(8)\n",
      "memory usage: 1.0+ MB\n"
     ]
    }
   ],
   "source": [
    "arts.info()"
   ]
  },
  {
   "cell_type": "code",
   "execution_count": 17,
   "id": "feda1a3b",
   "metadata": {},
   "outputs": [],
   "source": [
    "arts[\"EndDate\"]=arts[\"EndDate\"].apply(clean_dates)"
   ]
  },
  {
   "cell_type": "code",
   "execution_count": 18,
   "id": "6569ebdb",
   "metadata": {},
   "outputs": [
    {
     "data": {
      "text/plain": [
       "array(['2013', '2007', '1943', '1944', '1927', '1984', nan, '1953',\n",
       "       '1985', '1957', '1972', '1965', '1959', '1969', '1958', '1987',\n",
       "       '1976', '1947', '1941', '2006', '1998', '1978', '1828', '1988',\n",
       "       '1983', '2008', '2011', '2010', '1956', '1908', '1996', '1991',\n",
       "       '1981', '1982', '2014', '1901', '1997', '2004', '2016', '1960',\n",
       "       '2000', '1913', '1970', '1904', '1955', '1951', '1992', '1933',\n",
       "       '2012', '2002', '1974', '1989', '1962', '1938', '1948', '1952',\n",
       "       '2003', '1930', '1928', '1934', '1966', '1979', '1961', '1994',\n",
       "       '2018', '1954', '1942', '2017', '1993', '1920', '1949', '1896',\n",
       "       '1935', '1921', '1946', '1995', '1986', '1925', '1999', '1971',\n",
       "       '1884', '2009', '1940', '1977', '1964', '1975', '1916', '1963',\n",
       "       '2005', '1973', '2001', '1919', '2015', '1980', '1898', '1931',\n",
       "       '1967', '1950', '1968', '1870', '1990', '1918', '1902', '1907',\n",
       "       '1882', '1945', '1936', '1894', '1887', '1917', '1914', '1883',\n",
       "       '1926', '1869', '1871', '1909', '1939', '1872', '1932', '1903',\n",
       "       '1911', '1910', '1879', '1924', '1923', '1868', '1880', '1900',\n",
       "       '1891', '1937', '1856', '1851', '1915', '1875', '1863', '1922',\n",
       "       '1906', '1886', '1895', '1867', '1878', '1877', '1890', '1929',\n",
       "       '1885'], dtype=object)"
      ]
     },
     "execution_count": 18,
     "metadata": {},
     "output_type": "execute_result"
    }
   ],
   "source": [
    "arts[\"EndDate\"].unique()"
   ]
  },
  {
   "cell_type": "code",
   "execution_count": 19,
   "id": "d6837ec4",
   "metadata": {},
   "outputs": [],
   "source": [
    "def Clean_date_column(dates):\n",
    "    dates=clean_dates(dates)\n",
    "    if '-' in dates:\n",
    "        lst =dates.split('-')\n",
    "        yr1=int(lst[0])\n",
    "        yr2=int(lst[1])\n",
    "        dates=round((yr1+yr2)/2)\n",
    "        return dates\n",
    "    else:\n",
    "        dates=int(dates)\n",
    "        return dates"
   ]
  },
  {
   "cell_type": "code",
   "execution_count": 20,
   "id": "85962a73",
   "metadata": {},
   "outputs": [
    {
     "data": {
      "text/plain": [
       "array(['1986', '1978', '1889-1911', ..., '1936-1938', '(c. 1955-1959)',\n",
       "       'c. 1919-1920'], dtype=object)"
      ]
     },
     "execution_count": 20,
     "metadata": {},
     "output_type": "execute_result"
    }
   ],
   "source": [
    "arts[\"Date\"].unique()"
   ]
  },
  {
   "cell_type": "code",
   "execution_count": 21,
   "id": "1f64d4d6",
   "metadata": {},
   "outputs": [],
   "source": [
    "arts['Date']=arts['Date'].apply(Clean_date_column)"
   ]
  },
  {
   "cell_type": "code",
   "execution_count": 22,
   "id": "2074bcad",
   "metadata": {},
   "outputs": [
    {
     "data": {
      "text/html": [
       "<div>\n",
       "<style scoped>\n",
       "    .dataframe tbody tr th:only-of-type {\n",
       "        vertical-align: middle;\n",
       "    }\n",
       "\n",
       "    .dataframe tbody tr th {\n",
       "        vertical-align: top;\n",
       "    }\n",
       "\n",
       "    .dataframe thead th {\n",
       "        text-align: right;\n",
       "    }\n",
       "</style>\n",
       "<table border=\"1\" class=\"dataframe\">\n",
       "  <thead>\n",
       "    <tr style=\"text-align: right;\">\n",
       "      <th></th>\n",
       "      <th>Title</th>\n",
       "      <th>Artist</th>\n",
       "      <th>Nationality</th>\n",
       "      <th>BeginDate</th>\n",
       "      <th>EndDate</th>\n",
       "      <th>Gender</th>\n",
       "      <th>Date</th>\n",
       "      <th>Department</th>\n",
       "    </tr>\n",
       "  </thead>\n",
       "  <tbody>\n",
       "    <tr>\n",
       "      <th>0</th>\n",
       "      <td>Dress MacLeod from Tartan Sets</td>\n",
       "      <td>Sarah Charlesworth</td>\n",
       "      <td>American</td>\n",
       "      <td>(1947)</td>\n",
       "      <td>2013</td>\n",
       "      <td>Female</td>\n",
       "      <td>1986</td>\n",
       "      <td>Prints &amp; Illustrated Books</td>\n",
       "    </tr>\n",
       "    <tr>\n",
       "      <th>1</th>\n",
       "      <td>Duplicate of plate from folio 11 verso (supple...</td>\n",
       "      <td>Pablo Palazuelo</td>\n",
       "      <td>Spanish</td>\n",
       "      <td>(1916)</td>\n",
       "      <td>2007</td>\n",
       "      <td>Male</td>\n",
       "      <td>1978</td>\n",
       "      <td>Prints &amp; Illustrated Books</td>\n",
       "    </tr>\n",
       "    <tr>\n",
       "      <th>2</th>\n",
       "      <td>Tailpiece (page 55) from SAGESSE</td>\n",
       "      <td>Maurice Denis</td>\n",
       "      <td>French</td>\n",
       "      <td>(1870)</td>\n",
       "      <td>1943</td>\n",
       "      <td>Male</td>\n",
       "      <td>1900</td>\n",
       "      <td>Prints &amp; Illustrated Books</td>\n",
       "    </tr>\n",
       "    <tr>\n",
       "      <th>3</th>\n",
       "      <td>Headpiece (page 129) from LIVRET DE FOLASTRIES...</td>\n",
       "      <td>Aristide Maillol</td>\n",
       "      <td>French</td>\n",
       "      <td>(1861)</td>\n",
       "      <td>1944</td>\n",
       "      <td>Male</td>\n",
       "      <td>1934</td>\n",
       "      <td>Prints &amp; Illustrated Books</td>\n",
       "    </tr>\n",
       "    <tr>\n",
       "      <th>4</th>\n",
       "      <td>97 rue du Bac</td>\n",
       "      <td>Eugène Atget</td>\n",
       "      <td>French</td>\n",
       "      <td>(1857)</td>\n",
       "      <td>1927</td>\n",
       "      <td>Male</td>\n",
       "      <td>1903</td>\n",
       "      <td>Photography</td>\n",
       "    </tr>\n",
       "    <tr>\n",
       "      <th>...</th>\n",
       "      <td>...</td>\n",
       "      <td>...</td>\n",
       "      <td>...</td>\n",
       "      <td>...</td>\n",
       "      <td>...</td>\n",
       "      <td>...</td>\n",
       "      <td>...</td>\n",
       "      <td>...</td>\n",
       "    </tr>\n",
       "    <tr>\n",
       "      <th>16720</th>\n",
       "      <td>Oval with Points</td>\n",
       "      <td>Henry Moore</td>\n",
       "      <td>British</td>\n",
       "      <td>(1898)</td>\n",
       "      <td>1986</td>\n",
       "      <td>Male</td>\n",
       "      <td>1968</td>\n",
       "      <td>Painting &amp; Sculpture</td>\n",
       "    </tr>\n",
       "    <tr>\n",
       "      <th>16721</th>\n",
       "      <td>Cementerio de la Ciudad Abierta, Ritoque, Chile</td>\n",
       "      <td>Juan Baixas</td>\n",
       "      <td>Chilean</td>\n",
       "      <td>(1942)</td>\n",
       "      <td>NaN</td>\n",
       "      <td>Male</td>\n",
       "      <td>1975</td>\n",
       "      <td>Architecture &amp; Design</td>\n",
       "    </tr>\n",
       "    <tr>\n",
       "      <th>16722</th>\n",
       "      <td>The Catboat</td>\n",
       "      <td>Edward Hopper</td>\n",
       "      <td>American</td>\n",
       "      <td>(1882)</td>\n",
       "      <td>1967</td>\n",
       "      <td>Male</td>\n",
       "      <td>1922</td>\n",
       "      <td>Prints &amp; Illustrated Books</td>\n",
       "    </tr>\n",
       "    <tr>\n",
       "      <th>16723</th>\n",
       "      <td>Dognat' i peregnat' v tekhniko-ekonomicheskom ...</td>\n",
       "      <td>Unknown</td>\n",
       "      <td>Nationality Unknown</td>\n",
       "      <td>NaN</td>\n",
       "      <td>NaN</td>\n",
       "      <td>Gender Unknown</td>\n",
       "      <td>1931</td>\n",
       "      <td>Prints &amp; Illustrated Books</td>\n",
       "    </tr>\n",
       "    <tr>\n",
       "      <th>16724</th>\n",
       "      <td>Plate (page 11) from The Dive</td>\n",
       "      <td>Alex Katz</td>\n",
       "      <td>American</td>\n",
       "      <td>(1927)</td>\n",
       "      <td>NaN</td>\n",
       "      <td>Male</td>\n",
       "      <td>2011</td>\n",
       "      <td>Prints &amp; Illustrated Books</td>\n",
       "    </tr>\n",
       "  </tbody>\n",
       "</table>\n",
       "<p>16725 rows × 8 columns</p>\n",
       "</div>"
      ],
      "text/plain": [
       "                                                   Title              Artist  \\\n",
       "0                         Dress MacLeod from Tartan Sets  Sarah Charlesworth   \n",
       "1      Duplicate of plate from folio 11 verso (supple...     Pablo Palazuelo   \n",
       "2                       Tailpiece (page 55) from SAGESSE       Maurice Denis   \n",
       "3      Headpiece (page 129) from LIVRET DE FOLASTRIES...    Aristide Maillol   \n",
       "4                                          97 rue du Bac        Eugène Atget   \n",
       "...                                                  ...                 ...   \n",
       "16720                                   Oval with Points         Henry Moore   \n",
       "16721    Cementerio de la Ciudad Abierta, Ritoque, Chile         Juan Baixas   \n",
       "16722                                        The Catboat       Edward Hopper   \n",
       "16723  Dognat' i peregnat' v tekhniko-ekonomicheskom ...             Unknown   \n",
       "16724                      Plate (page 11) from The Dive           Alex Katz   \n",
       "\n",
       "               Nationality BeginDate EndDate          Gender  Date  \\\n",
       "0                 American    (1947)    2013          Female  1986   \n",
       "1                  Spanish    (1916)    2007            Male  1978   \n",
       "2                   French    (1870)    1943            Male  1900   \n",
       "3                   French    (1861)    1944            Male  1934   \n",
       "4                   French    (1857)    1927            Male  1903   \n",
       "...                    ...       ...     ...             ...   ...   \n",
       "16720              British    (1898)    1986            Male  1968   \n",
       "16721              Chilean    (1942)     NaN            Male  1975   \n",
       "16722             American    (1882)    1967            Male  1922   \n",
       "16723  Nationality Unknown       NaN     NaN  Gender Unknown  1931   \n",
       "16724             American    (1927)     NaN            Male  2011   \n",
       "\n",
       "                       Department  \n",
       "0      Prints & Illustrated Books  \n",
       "1      Prints & Illustrated Books  \n",
       "2      Prints & Illustrated Books  \n",
       "3      Prints & Illustrated Books  \n",
       "4                     Photography  \n",
       "...                           ...  \n",
       "16720        Painting & Sculpture  \n",
       "16721       Architecture & Design  \n",
       "16722  Prints & Illustrated Books  \n",
       "16723  Prints & Illustrated Books  \n",
       "16724  Prints & Illustrated Books  \n",
       "\n",
       "[16725 rows x 8 columns]"
      ]
     },
     "execution_count": 22,
     "metadata": {},
     "output_type": "execute_result"
    }
   ],
   "source": [
    "arts"
   ]
  },
  {
   "cell_type": "code",
   "execution_count": 24,
   "id": "369c0275",
   "metadata": {},
   "outputs": [],
   "source": [
    "arts.to_csv(\"Cleaned_Modern_arts.csv\")"
   ]
  },
  {
   "cell_type": "code",
   "execution_count": null,
   "id": "d5533fb5",
   "metadata": {},
   "outputs": [],
   "source": []
  }
 ],
 "metadata": {
  "kernelspec": {
   "display_name": "Python 3 (ipykernel)",
   "language": "python",
   "name": "python3"
  },
  "language_info": {
   "codemirror_mode": {
    "name": "ipython",
    "version": 3
   },
   "file_extension": ".py",
   "mimetype": "text/x-python",
   "name": "python",
   "nbconvert_exporter": "python",
   "pygments_lexer": "ipython3",
   "version": "3.11.4"
  }
 },
 "nbformat": 4,
 "nbformat_minor": 5
}
